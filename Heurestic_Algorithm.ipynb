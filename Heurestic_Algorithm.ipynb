{
  "nbformat": 4,
  "nbformat_minor": 0,
  "metadata": {
    "colab": {
      "name": "Heurestic Algorithm.ipynb",
      "provenance": [],
      "collapsed_sections": []
    },
    "kernelspec": {
      "name": "python3",
      "display_name": "Python 3"
    },
    "language_info": {
      "name": "python"
    }
  },
  "cells": [
    {
      "cell_type": "code",
      "execution_count": 1,
      "metadata": {
        "colab": {
          "base_uri": "https://localhost:8080/"
        },
        "id": "O1lzcEgAm7Uz",
        "outputId": "c97b9905-4e12-4efd-c5fa-7341b9094d9c"
      },
      "outputs": [
        {
          "output_type": "stream",
          "name": "stdout",
          "text": [
            "Looking in indexes: https://pypi.org/simple, https://us-python.pkg.dev/colab-wheels/public/simple/\n",
            "Collecting python-constraint\n",
            "  Downloading python-constraint-1.4.0.tar.bz2 (18 kB)\n",
            "Building wheels for collected packages: python-constraint\n",
            "  Building wheel for python-constraint (setup.py) ... \u001b[?25l\u001b[?25hdone\n",
            "  Created wheel for python-constraint: filename=python_constraint-1.4.0-py2.py3-none-any.whl size=24081 sha256=5d723cb45641d967deea98f8b006da2d74b46f11cb97d48a0113980e7dcc390a\n",
            "  Stored in directory: /root/.cache/pip/wheels/07/27/db/1222c80eb1e431f3d2199c12569cb1cac60f562a451fe30479\n",
            "Successfully built python-constraint\n",
            "Installing collected packages: python-constraint\n",
            "Successfully installed python-constraint-1.4.0\n"
          ]
        }
      ],
      "source": [
        "pip install python-constraint"
      ]
    },
    {
      "cell_type": "code",
      "source": [
        "from constraint import *"
      ],
      "metadata": {
        "id": "RnzHK_qrnMB4"
      },
      "execution_count": 2,
      "outputs": []
    },
    {
      "cell_type": "code",
      "source": [
        "problem = Problem()"
      ],
      "metadata": {
        "id": "LrxIdo7lnQot"
      },
      "execution_count": 3,
      "outputs": []
    },
    {
      "cell_type": "code",
      "source": [
        "problem.addVariable('a', range(10))\n",
        "problem.addVariable('b', range(10))"
      ],
      "metadata": {
        "id": "Rxqdox6unQxG"
      },
      "execution_count": 4,
      "outputs": []
    },
    {
      "cell_type": "code",
      "source": [
        "problem.addConstraint(lambda a, b: a * 2 == b)"
      ],
      "metadata": {
        "id": "689YMpmRnQz1"
      },
      "execution_count": 5,
      "outputs": []
    },
    {
      "cell_type": "code",
      "source": [
        "solutions = problem.getSolutions()\n",
        "print(solutions)"
      ],
      "metadata": {
        "colab": {
          "base_uri": "https://localhost:8080/"
        },
        "id": "a1pI-F_pnQ2d",
        "outputId": "d9f607f3-7aba-401b-9b43-99161c2e16fb"
      },
      "execution_count": 6,
      "outputs": [
        {
          "output_type": "stream",
          "name": "stdout",
          "text": [
            "[{'a': 4, 'b': 8}, {'a': 3, 'b': 6}, {'a': 2, 'b': 4}, {'a': 1, 'b': 2}, {'a': 0, 'b': 0}]\n"
          ]
        }
      ]
    },
    {
      "cell_type": "code",
      "source": [
        "# Magic Square\n",
        "\n",
        "def magic_square(matrix):\n",
        "  size = len(matrix[0])\n",
        "  sum_list = []\n",
        "  for col in range(size):\n",
        "    sum_list.append(sum(row[col] for row in matrix))\n",
        "    sum_list.extend([sum(lines) for lines in matrix])\n",
        "    result1=0\n",
        "    for i in range(0,size):\n",
        "      result1+=matrix[i][i]\n",
        "      sum_list.append(result1)\n",
        "      result2=0\n",
        "      for i in range(size-1,-1,-1):\n",
        "        result2+=matrix[i][i]\n",
        "        sum_list.append(result2)\n",
        "        if len(set(sum_list))>1:\n",
        "          return False\n",
        "  return True"
      ],
      "metadata": {
        "id": "WN0CchQEnQ5C"
      },
      "execution_count": 10,
      "outputs": []
    },
    {
      "cell_type": "code",
      "source": [
        "magic_square([[1,2,3],[4,5,6],[7,8,9]])"
      ],
      "metadata": {
        "colab": {
          "base_uri": "https://localhost:8080/"
        },
        "id": "aVxqQ6DYnQ7a",
        "outputId": "94f6eff3-a504-40c3-c148-5cd17ff713ab"
      },
      "execution_count": 11,
      "outputs": [
        {
          "output_type": "execute_result",
          "data": {
            "text/plain": [
              "False"
            ]
          },
          "metadata": {},
          "execution_count": 11
        }
      ]
    },
    {
      "cell_type": "code",
      "source": [
        ""
      ],
      "metadata": {
        "id": "EkifibMftjq-"
      },
      "execution_count": null,
      "outputs": []
    }
  ]
}